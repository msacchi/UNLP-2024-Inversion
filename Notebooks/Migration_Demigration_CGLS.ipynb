{
 "cells": [
  {
   "cell_type": "code",
   "execution_count": 3,
   "id": "cc18172a-0f00-43a2-8300-4932169853cd",
   "metadata": {},
   "outputs": [],
   "source": [
    "using SeisPlot,PyPlot, Printf"
   ]
  },
  {
   "cell_type": "markdown",
   "id": "61dd91ef",
   "metadata": {},
   "source": [
    "## 1) Test CGLS with EXPLICIT OPERATOR "
   ]
  },
  {
   "cell_type": "code",
   "execution_count": 4,
   "id": "437b7ba2",
   "metadata": {},
   "outputs": [
    {
     "data": {
      "text/plain": [
       "cgls (generic function with 1 method)"
      ]
     },
     "metadata": {},
     "output_type": "display_data"
    }
   ],
   "source": [
    "function cgls(A, y, x0, tol, max_iter)\n",
    "# min_x ||A x-y||_2^2 \n",
    "\n",
    "    m, n = size(A)\n",
    "    x = x0\n",
    "    r = A' * (y - A * x)\n",
    "    p = r\n",
    "    rsold = r' * r\n",
    "\n",
    "    for i in 1:max_iter\n",
    "        Ap = A * p\n",
    "        alpha = rsold / (Ap' * Ap)\n",
    "        x = x + alpha * p\n",
    "        r = r - alpha * A' * Ap\n",
    "        rsnew = r' * r\n",
    "        if sqrt(rsnew) < tol\n",
    "            break\n",
    "        end\n",
    "        p = r + (rsnew / rsold) * p\n",
    "        rsold = rsnew\n",
    "    end\n",
    "\n",
    "    return x\n",
    "end"
   ]
  },
  {
   "cell_type": "code",
   "execution_count": 5,
   "id": "eb3f1e2f",
   "metadata": {},
   "outputs": [
    {
     "name": "stdout",
     "output_type": "stream",
     "text": [
      "    True      Estimated\n",
      "    0.7532      0.7532 \n",
      "    0.1773      0.1773 \n",
      "    0.7775      0.7775 \n"
     ]
    }
   ],
   "source": [
    "# Testing CGLS with Explicit A. \n",
    "\n",
    "A = randn(20,3)\n",
    "x = randn(3)\n",
    "y = A*x+0.001*randn(20)\n",
    "x0 = zeros(3)\n",
    "tol = 0.0001\n",
    "max_iter = 3\n",
    "\n",
    "\n",
    "x1 = cgls(A, y, x0, tol, 20)\n",
    "\n",
    "\n",
    "x2 = (A'*A)\\(A'y)\n",
    "k=1\n",
    "@printf(\"    True      Estimated\\n\")\n",
    "for k in 1:3\n",
    "@printf(\"   %7.4f     %7.4f \\n\", x1[k],x2[k])\n",
    "end"
   ]
  },
  {
   "cell_type": "markdown",
   "id": "d277e1fb",
   "metadata": {},
   "source": [
    "### 2) CGLS Implicit for demigration and migration Opertors "
   ]
  },
  {
   "cell_type": "code",
   "execution_count": 6,
   "id": "ccf1b410",
   "metadata": {},
   "outputs": [
    {
     "data": {
      "text/plain": [
       "cgls_Implicit (generic function with 1 method)"
      ]
     },
     "metadata": {},
     "output_type": "display_data"
    }
   ],
   "source": [
    "function cgls_Implicit(y, x0, tol, max_iter, ntraces, s, rec, nx, nz, dx, dz, nt, dt, v)\n",
    "# min_x ||A x-y||_2^2 Implicit. This code is not recyclable because it is \n",
    "# designed for the specific operators used in PSTM with demigra and migra operators. \n",
    "\n",
    "    x = x0\n",
    "    tmp = y .- demigra(ntraces,s,rec,nx,nz,dx,dz,nt,dt,v,x)\n",
    "    r = migra(ntraces,s,rec,nx,nz,dx,dz,nt,dt,v,tmp)\n",
    "    p = r\n",
    "    rsold = sum(r.*r)\n",
    "\n",
    "    for i in 1:max_iter\n",
    "        Ap = demigra(ntraces,s,rec,nx,nz,dx,dz,nt,dt,v,p)\n",
    "        alpha = rsold / sum(Ap.* Ap)\n",
    "        x = x + alpha * p\n",
    "        r = r - alpha * migra(ntraces,s,rec,nx,nz,dx,dz,nt,dt,v,Ap) # \n",
    "        rsnew = sum(r.*r)\n",
    "        if sqrt(rsnew) < tol\n",
    "            break\n",
    "        end\n",
    "        p = r + (rsnew / rsold) * p\n",
    "        rsold = rsnew\n",
    "    end\n",
    "\n",
    "    return x\n",
    "end"
   ]
  },
  {
   "cell_type": "markdown",
   "id": "ec9627d5-dc85-4fee-b51b-786f9099f07b",
   "metadata": {},
   "source": [
    "### 3) Dot product test to ensure migration and demigration functions behave like L' and L\n",
    "\n",
    "Born / Kirchoff PSTM Example\n",
    "\n",
    "- $L$ Demigration (modelling) operator\n",
    "- $L'$: Migration (imaging) operator\n",
    "\n",
    "Test numertically that \n",
    "$$<Lx,y> = <L'y,x>$$\n",
    "\n"
   ]
  },
  {
   "cell_type": "code",
   "execution_count": 7,
   "id": "7e49402a-24c5-4c57-8df9-c9621c936a79",
   "metadata": {},
   "outputs": [
    {
     "name": "stdout",
     "output_type": "stream",
     "text": [
      "True if we pass the dot product test --> true\n"
     ]
    }
   ],
   "source": [
    "nx = 200; nz = 200\n",
    "dx = 10.; dz = 10.\n",
    "nt = 1200; dt = 0.002\n",
    "\n",
    "Lx = (nx-1)*dx\n",
    "Lz = (nz-1)*dz\n",
    "\n",
    "# Prepare a simple geometry by computing sources and receiver positions\n",
    "ns = 10 \n",
    "nr = 20\n",
    "ntraces = nr*ns\n",
    "s = zeros(ntraces)\n",
    "r = zeros(ntraces)\n",
    "\n",
    "k = 1\n",
    " for is = 1:ns\n",
    "   for ir = 1:nr\n",
    "    s[k] = 10.0 + (0.8*Lx-10.0)*(is-1)/(ns-1)\n",
    "    r[k] = 14.0 + (0.9*Lx-14.0)*(ir-1)/(nr-1)\n",
    "    k = k + 1\n",
    "  end\n",
    "end\n",
    " v = ones(nz,nx)*1000; \n",
    "\n",
    " m1 = randn(nz,nx);      d1 = demigra(ntraces,s,r,nx,nz,dx,dz,nt,dt,v,m1)  # L m1\n",
    " d2 = randn(nt,ntraces); m2 =   migra(ntraces,s,r,nx,nz,dx,dz,nt,dt,v,d2)  # L'd2\n",
    "\n",
    "aux1 = d1.*d2;\n",
    "aux2 = m1.*m2;\n",
    "dot1 = sum(aux1[:])\n",
    "dot2 = sum(aux2[:]) \n",
    "\n",
    "println(\"True if we pass the dot product test --> \", abs(dot1-dot2)<1.0e-10) \n"
   ]
  },
  {
   "cell_type": "markdown",
   "id": "4607783b-eb86-4f95-b7a7-474b4bca1d3f",
   "metadata": {},
   "source": [
    "### 4) Test code with inverse problem crime. \n",
    "\n",
    "- First we use a model to generate\n",
    "data via the demigration operator. Then, we add noise todata and then we use the adjoint to recover the image.\n",
    "Finally, we use LS migration to find the image that fits the data. The LS migration is iteratively computed\n",
    "via CGLS. "
   ]
  },
  {
   "cell_type": "code",
   "execution_count": 8,
   "id": "7791992f-126f-40d7-9f2e-6afc40acd015",
   "metadata": {},
   "outputs": [],
   "source": [
    " ns = 4              # 4 sources\n",
    " nr = 100            # 100 receivers\n",
    " ntraces = ns*nr     # Total number of traces to model \n",
    " nt = 1000\n",
    " dt = 2/1000.0\n",
    " nx = 200; dx = 10; Lx = (nx-1)*dx\n",
    " nz = 300; dz = 10; Lz = (nz-1)*dz;\n",
    "  v = ones(nz,nx)*1900\n",
    "\n",
    " # Prepare a simple geometry by computing sources and receiver positions\n",
    "\n",
    " s = zeros(ntraces)\n",
    " r = zeros(ntraces)\n",
    " \n",
    " k = 1\n",
    "  for is = 1:ns\n",
    "    for ir = 1:nr\n",
    "     s[k] = 10.0 + (0.8*Lx-10.0)*(is-1)/(ns-1)\n",
    "     r[k] = 14.0 + (0.9*Lx-14.0)*(ir-1)/(nr-1)\n",
    "     k = k + 1\n",
    "   end\n",
    " end\n",
    "\n",
    " m_true = zeros(nz,nx)\n",
    "  n1=100\n",
    "  m_true[100,1:n1]    .=1.0;      m_true[110,n1:end] .=1.0\n",
    "  m_true[120,1:n1+20] .=-1.0;     m_true[130,n1+20:end] .=-1.0\n",
    "  m_true[140,1:n1+40] .=1.0;      m_true[150,n1+40:end] .=1.0\n",
    "\n",
    "d      = demigra(ntraces,s,r,nx,nz,dx,dz,nt,dt,v,m_true)\n",
    "m_adj  = migra(ntraces,s,r,nx,nz,dx,dz,nt,dt,v,d)\n",
    "m_adj  = m_adj/maximum(m_adj)\n",
    "m_cgls = cgls_Implicit(d, zeros(size(m_true)), 0.001,10,ntraces,s,r,nx,nz,dx,dz,nt,dt,v);\n",
    "\n"
   ]
  },
  {
   "cell_type": "markdown",
   "id": "c796bcba",
   "metadata": {},
   "source": [
    "## Now plot results obtained via test with inverse problem crime"
   ]
  },
  {
   "cell_type": "code",
   "execution_count": 9,
   "id": "61283328",
   "metadata": {},
   "outputs": [],
   "source": [
    "dmax = 0.4*maximum(d)\n",
    "figure(1)\n",
    "tmax = dt*(nt-1)\n",
    "imshow(d,vmin=-dmax,vmax=dmax,extent=[0,ntraces,tmax,0],aspect=200,cmap=\"seismic\")\n",
    "xlabel(\"Trace number\"); ylabel(\"Time [s]\");title(\"Shots\")\n",
    "figure(2)\n",
    "E = [0,(nx-1)*dx,(nz-1)*dz,0]\n",
    "\n",
    "subplot(131);imshow(m_true,vmin=-1,vmax=1,cmap=\"seismic\",extent=E )\n",
    "title(\"True Reflectivity\");xlabel(\"x [m]\");ylabel(\"z [m]\")\n",
    "\n",
    "subplot(132);imshow(m_adj, vmin=-1,vmax=1,cmap=\"seismic\",extent=E)\n",
    "title(\"Migration\");xlabel(\"x [m]\");ylabel(\"z [m]\")\n",
    "\n",
    "subplot(133);imshow(m_cgls,vmin=-1,vmax=1,cmap=\"seismic\",extent=E)\n",
    "title(\"LS Migration\");xlabel(\"x [m]\");ylabel(\"z [m]\")\n",
    "\n",
    "tight_layout()"
   ]
  },
  {
   "cell_type": "markdown",
   "id": "d5664fea",
   "metadata": {},
   "source": [
    "### Functions for migration and demigration "
   ]
  },
  {
   "cell_type": "code",
   "execution_count": 10,
   "id": "98d455ae-6e45-451b-a42f-5d69aac4ef30",
   "metadata": {},
   "outputs": [
    {
     "data": {
      "text/plain": [
       "demigra (generic function with 1 method)"
      ]
     },
     "metadata": {},
     "output_type": "display_data"
    }
   ],
   "source": [
    "function demigra(ntraces,s,r,nx,nz,dx,dz,nt,dt,v,m)\n",
    "# Program for simple demigration d = L m\n",
    "    d = zeros(nt,ntraces)\n",
    " for k = 1:ntraces\n",
    "    for ix = 1:nx\n",
    "       for iz = 1:nz\n",
    "            dr = ((ix-1)*dx-r[k])^2+((iz-1)*dz)^2; dr =sqrt(dr)\n",
    "            ds = ((ix-1)*dx-s[k])^2+((iz-1)*dz)^2; ds =sqrt(ds)\n",
    "            time = (dr+ds)/v[iz,ix]\n",
    "            it = floor(Int,time/dt+1)\n",
    "            if (  it<nt )\n",
    "               d[it,k] = d[it,k] + m[iz,ix]\n",
    "            end\n",
    "        end\n",
    "    end\n",
    "end\n",
    "return d\n",
    "end\n",
    "\n"
   ]
  },
  {
   "cell_type": "code",
   "execution_count": 12,
   "id": "e1db5c18",
   "metadata": {},
   "outputs": [
    {
     "data": {
      "text/plain": [
       "migra (generic function with 1 method)"
      ]
     },
     "metadata": {},
     "output_type": "display_data"
    }
   ],
   "source": [
    "function migra(ntraces,s,r,nx,nz,dx,dz,nt,dt,v,d)\n",
    "    # Program for simple migration ma = L' m\n",
    "        ma = zeros(nz,nx)\n",
    " for k = 1:ntraces\n",
    "    for ix = 1:nx\n",
    "       for iz = 1:nz\n",
    "            dr = ((ix-1)*dx-r[k])^2+((iz-1)*dz)^2; dr =sqrt(dr)\n",
    "            ds = ((ix-1)*dx-s[k])^2+((iz-1)*dz)^2; ds =sqrt(ds)\n",
    "            time = (dr+ds)/v[iz,ix]\n",
    "            it = floor(Int,time/dt+1)  # Assigned nearest integer \n",
    "            \n",
    "            if (  it<nt )\n",
    "             \n",
    "         ma[iz,ix] = ma[iz,ix] +  d[it,k]\n",
    "            end\n",
    "        end\n",
    "    end\n",
    "end\n",
    "    return ma\n",
    "end\n"
   ]
  }
 ],
 "metadata": {
  "kernelspec": {
   "display_name": "Julia 1.10.2",
   "language": "julia",
   "name": "julia-1.10"
  },
  "language_info": {
   "file_extension": ".jl",
   "mimetype": "application/julia",
   "name": "julia",
   "version": "1.10.2"
  }
 },
 "nbformat": 4,
 "nbformat_minor": 5
}
