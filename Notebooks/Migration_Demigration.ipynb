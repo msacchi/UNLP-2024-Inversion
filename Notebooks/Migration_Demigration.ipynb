{
 "cells": [
  {
   "cell_type": "code",
   "execution_count": 1,
   "id": "cc18172a-0f00-43a2-8300-4932169853cd",
   "metadata": {},
   "outputs": [],
   "source": [
    "using SeisPlot,PyPlot"
   ]
  },
  {
   "cell_type": "code",
   "execution_count": 2,
   "id": "437b7ba2",
   "metadata": {},
   "outputs": [
    {
     "data": {
      "text/plain": [
       "cgls (generic function with 1 method)"
      ]
     },
     "execution_count": 2,
     "metadata": {},
     "output_type": "execute_result"
    }
   ],
   "source": [
    "function cgls(A, y, x0, tol, max_iter)\n",
    "# min_x ||A x-y||_2^2 \n",
    "\n",
    "    m, n = size(A)\n",
    "    x = x0\n",
    "    r = A' * (y - A * x)\n",
    "    p = r\n",
    "    rsold = r' * r\n",
    "\n",
    "    for i in 1:max_iter\n",
    "        Ap = A * p\n",
    "        alpha = rsold / (Ap' * Ap)\n",
    "        x = x + alpha * p\n",
    "        r = r - alpha * A' * Ap\n",
    "        rsnew = r' * r\n",
    "        if sqrt(rsnew) < tol\n",
    "            break\n",
    "        end\n",
    "        p = r + (rsnew / rsold) * p\n",
    "        rsold = rsnew\n",
    "    end\n",
    "\n",
    "    return x\n",
    "end"
   ]
  },
  {
   "cell_type": "code",
   "execution_count": 108,
   "id": "ccf1b410",
   "metadata": {},
   "outputs": [
    {
     "data": {
      "text/plain": [
       "cgls_Implicit (generic function with 2 methods)"
      ]
     },
     "execution_count": 108,
     "metadata": {},
     "output_type": "execute_result"
    }
   ],
   "source": [
    "function cgls_Implicit(y, x0, tol, max_iter,ntraces,s,rec,nx,nz,dx,dz,nt,dt,v)\n",
    "# min_x ||A x-y||_2^2 Implicit\n",
    "\n",
    "\n",
    "    x = x0\n",
    "    tmp = y .- demigra(ntraces,s,rec,nx,nz,dx,dz,nt,dt,v,x)\n",
    "    r = migra(ntraces,s,rec,nx,nz,dx,dz,nt,dt,v,tmp)\n",
    "    p = r\n",
    "    rsold = sum(r.*r)\n",
    "\n",
    "    for i in 1:max_iter\n",
    "        Ap = demigra(ntraces,s,rec,nx,nz,dx,dz,nt,dt,v,p)\n",
    "        alpha = rsold / sum(Ap.* Ap)\n",
    "        x = x + alpha * p\n",
    "        r = r - alpha * migra(ntraces,s,rec,nx,nz,dx,dz,nt,dt,v,Ap) # \n",
    "        rsnew = r' * r\n",
    "        if sqrt(rsnew) < tol\n",
    "            break\n",
    "        end\n",
    "        p = r + (rsnew / rsold) * p\n",
    "        rsold = rsnew\n",
    "    end\n",
    "\n",
    "    return x\n",
    "end"
   ]
  },
  {
   "cell_type": "code",
   "execution_count": 73,
   "id": "dc10d1c4",
   "metadata": {},
   "outputs": [
    {
     "data": {
      "text/plain": [
       "sd (generic function with 1 method)"
      ]
     },
     "execution_count": 73,
     "metadata": {},
     "output_type": "execute_result"
    }
   ],
   "source": [
    "function sd(A, y, x0, step, tol, max_iter)\n",
    "    # min_x ||A x-y||_2^2 \n",
    "    \n",
    "        m, n = size(A)\n",
    "        x = x0\n",
    "    \n",
    "        for i in 1:max_iter\n",
    "            r = A*x-y \n",
    "            x = x - step*(A'*r)\n",
    "            res= r' * r\n",
    "            if sqrt(res) < tol\n",
    "                break\n",
    "            end\n",
    "        end\n",
    "    \n",
    "        return x\n",
    "    end"
   ]
  },
  {
   "cell_type": "code",
   "execution_count": 87,
   "id": "3777f743",
   "metadata": {},
   "outputs": [],
   "source": [
    "# Testing CGLS with Explicit A. \n",
    "A = randn(20,10)\n",
    "x = randn(10)\n",
    "y = A*x+0.001*randn(20)\n",
    "x0 = zeros(10)\n",
    "tol = 0.0001\n",
    "max_iter = 10\n",
    "\n",
    "\n",
    "x1 = cgls(A, y, x0, tol, 20)\n",
    "x2 = sd(A, y, x0,  0.001, 0.0, 1290)\n",
    "\n",
    "x3 = (A'*A)\\(A'y)\n",
    "\n",
    "hcat(x1,x2,x3);\n",
    "\n"
   ]
  },
  {
   "cell_type": "markdown",
   "id": "ec9627d5-dc85-4fee-b51b-786f9099f07b",
   "metadata": {},
   "source": [
    "###  Dot product test to ensure migration and demigration functions behave like L' and L\n",
    "\n",
    "Born / Kirchoff PSTM Example\n"
   ]
  },
  {
   "cell_type": "code",
   "execution_count": 92,
   "id": "7e49402a-24c5-4c57-8df9-c9621c936a79",
   "metadata": {},
   "outputs": [
    {
     "name": "stdout",
     "output_type": "stream",
     "text": [
      "-4915.401764273689 -4915.401764273698\n"
     ]
    }
   ],
   "source": [
    "nx = 200; nz = 200\n",
    "dx = 10.; dz = 10.\n",
    "nt = 1900; dt = 0.002\n",
    "ntraces = 160\n",
    "\n",
    "Lx = (nx-1)*dx\n",
    "Lz = (nz-1)*dz\n",
    " v = ones(nz,nx)*1000; \n",
    "\n",
    " \n",
    " \n",
    "\n",
    " m1 = randn(nz,nx);      d1 = demigra(ntraces,s,r,nx,nz,dx,dz,nt,dt,v,m1)\n",
    " d2 = randn(nt,ntraces); m2 =   migra(ntraces,s,r,nx,nz,dx,dz,nt,dt,v,d2)\n",
    "\n",
    "aux1 = d1.*d2;\n",
    "aux2 = m1.*m2;\n",
    "println( sum(aux1[:]),\" \", sum(aux2[:]) )\n"
   ]
  },
  {
   "cell_type": "markdown",
   "id": "4607783b-eb86-4f95-b7a7-474b4bca1d3f",
   "metadata": {},
   "source": [
    "### Test code with inverse problem crime. \n",
    "\n",
    "First we use a model to generate\n",
    "data via the demigration operator. Then, we use the adjoint to recover the image"
   ]
  },
  {
   "cell_type": "markdown",
   "id": "56eaef33",
   "metadata": {},
   "source": []
  },
  {
   "cell_type": "code",
   "execution_count": 110,
   "id": "7791992f-126f-40d7-9f2e-6afc40acd015",
   "metadata": {},
   "outputs": [
    {
     "ename": "LoadError",
     "evalue": "MethodError: no method matching isless(::Matrix{Float64}, ::Float64)\n\n\u001b[0mClosest candidates are:\n\u001b[0m  isless(\u001b[91m::PyCall.PyObject\u001b[39m, ::Any)\n\u001b[0m\u001b[90m   @\u001b[39m \u001b[33mPyCall\u001b[39m \u001b[90m~/.julia/packages/PyCall/1gn3u/src/\u001b[39m\u001b[90m\u001b[4mpyoperators.jl:75\u001b[24m\u001b[39m\n\u001b[0m  isless(::Any, \u001b[91m::PyCall.PyObject\u001b[39m)\n\u001b[0m\u001b[90m   @\u001b[39m \u001b[33mPyCall\u001b[39m \u001b[90m~/.julia/packages/PyCall/1gn3u/src/\u001b[39m\u001b[90m\u001b[4mpyoperators.jl:76\u001b[24m\u001b[39m\n\u001b[0m  isless(\u001b[91m::Missing\u001b[39m, ::Any)\n\u001b[0m\u001b[90m   @\u001b[39m \u001b[90mBase\u001b[39m \u001b[90m\u001b[4mmissing.jl:87\u001b[24m\u001b[39m\n\u001b[0m  ...\n",
     "output_type": "error",
     "traceback": [
      "MethodError: no method matching isless(::Matrix{Float64}, ::Float64)\n\n\u001b[0mClosest candidates are:\n\u001b[0m  isless(\u001b[91m::PyCall.PyObject\u001b[39m, ::Any)\n\u001b[0m\u001b[90m   @\u001b[39m \u001b[33mPyCall\u001b[39m \u001b[90m~/.julia/packages/PyCall/1gn3u/src/\u001b[39m\u001b[90m\u001b[4mpyoperators.jl:75\u001b[24m\u001b[39m\n\u001b[0m  isless(::Any, \u001b[91m::PyCall.PyObject\u001b[39m)\n\u001b[0m\u001b[90m   @\u001b[39m \u001b[33mPyCall\u001b[39m \u001b[90m~/.julia/packages/PyCall/1gn3u/src/\u001b[39m\u001b[90m\u001b[4mpyoperators.jl:76\u001b[24m\u001b[39m\n\u001b[0m  isless(\u001b[91m::Missing\u001b[39m, ::Any)\n\u001b[0m\u001b[90m   @\u001b[39m \u001b[90mBase\u001b[39m \u001b[90m\u001b[4mmissing.jl:87\u001b[24m\u001b[39m\n\u001b[0m  ...\n",
      "",
      "Stacktrace:",
      " [1] <(x::Matrix{Float64}, y::Float64)",
      "   @ Base ./operators.jl:352",
      " [2] cgls_Implicit(y::Matrix{Float64}, x0::Matrix{Float64}, tol::Float64, max_iter::Int64, ntraces::Int64, s::Vector{Float64}, rec::Vector{Float64}, nx::Int64, nz::Int64, dx::Float64, dz::Float64, nt::Int64, dt::Float64, v::Matrix{Float64})",
      "   @ Main ./In[108]:17",
      " [3] top-level scope",
      "   @ In[110]:24"
     ]
    }
   ],
   "source": [
    "ns = 12  # 20 sources\n",
    " nr = 100 # 100 receivers\n",
    " ntraces = ns*nr\n",
    "\n",
    "s = zeros(ntraces)\n",
    "r = zeros(ntraces)\n",
    " \n",
    "k = 1\n",
    "  for is = 1:ns\n",
    "    for ir = 1:nr\n",
    "    s[k] = 10. + 25*(is)\n",
    "    r[k] = 10. + 10.0+(ir-1)*5\n",
    "k = k + 1\n",
    "  end\n",
    "end\n",
    "m_true = zeros(nz,nx);\n",
    "m_true[100,1:50].=1.0;\n",
    "m_true[112,50:end].=1.0;\n",
    "m_true[130,:].=-1.0;\n",
    "\n",
    "d =     demigra(ntraces,s,r,nx,nz,dx,dz,nt,dt,v,m_true)\n",
    "m_adj = migra(ntraces,s,r,nx,nz,dx,dz,nt,dt,v,d)\n",
    "m_adj = m_adj/maximum(m_adj)\n",
    "m_cgls= cgls_Implicit(d, zeros(size(m_true)), 0.001,3,ntraces,s,r,nx,nz,dx,dz,nt,dt,v)\n",
    "\n",
    "\n",
    "\n",
    "#subplot(221);imshow(m_true,cmap=\"seismic\");\n",
    "#subplot(222);imshow(m_adj,cmap=\"seismic\",vmin=-0.9,vmax=0.9);\n",
    "#subplot(223);imshow(d,cmap=\"seismic\");\n"
   ]
  },
  {
   "cell_type": "code",
   "execution_count": 111,
   "id": "98d455ae-6e45-451b-a42f-5d69aac4ef30",
   "metadata": {},
   "outputs": [
    {
     "data": {
      "text/plain": [
       "migra (generic function with 1 method)"
      ]
     },
     "execution_count": 111,
     "metadata": {},
     "output_type": "execute_result"
    }
   ],
   "source": [
    "function demigra(ntraces,s,r,nx,nz,dx,dz,nt,dt,v,m)\n",
    "# Program for simple demigration d = L m\n",
    "    d = zeros(nt,ntraces)\n",
    " for k = 1:ntraces\n",
    "    for ix = 1:nx\n",
    "       for iz = 1:nz\n",
    "            dr = ((ix-1)*dx-r[k])^2+((iz-1)*dz)^2; dr =sqrt(dr)\n",
    "            ds = ((ix-1)*dx-s[k])^2+((iz-1)*dz)^2; ds =sqrt(ds)\n",
    "            time = (dr+ds)/v[iz,ix]\n",
    "            it = floor(Int,time/dt+1)\n",
    "            if (  it<nt )\n",
    "               d[it,k] = d[it,k] + m[iz,ix]\n",
    "            end\n",
    "        end\n",
    "    end\n",
    "end\n",
    "return d\n",
    "end\n",
    "\n",
    "function migra(ntraces,s,r,nx,nz,dx,dz,nt,dt,v,d)\n",
    "# Program for simple migration ma = L' m\n",
    "    ma = zeros(nz,nx)\n",
    " for k = 1:ntraces\n",
    "    for ix = 1:nx\n",
    "       for iz = 1:nz\n",
    "            dr = ((ix-1)*dx-r[k])^2+((iz-1)*dz)^2; dr =sqrt(dr)\n",
    "            ds = ((ix-1)*dx-s[k])^2+((iz-1)*dz)^2; ds =sqrt(ds)\n",
    "            time = (dr+ds)/v[iz,ix]\n",
    "            it = floor(Int,time/dt+1)  # Assigned nearest integer \n",
    "            \n",
    "            if (  it<nt )\n",
    "             \n",
    "         ma[iz,ix] = ma[iz,ix] +  d[it,k]### Emepezar aqui --> luego ir al adj\n",
    "            end\n",
    "        end\n",
    "    end\n",
    "end\n",
    "    return ma\n",
    "end\n"
   ]
  }
 ],
 "metadata": {
  "kernelspec": {
   "display_name": "Julia 1.10.2",
   "language": "julia",
   "name": "julia-1.10"
  },
  "language_info": {
   "file_extension": ".jl",
   "mimetype": "application/julia",
   "name": "julia",
   "version": "1.10.2"
  }
 },
 "nbformat": 4,
 "nbformat_minor": 5
}
